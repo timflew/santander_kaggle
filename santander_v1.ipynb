{
 "cells": [
  {
   "cell_type": "markdown",
   "metadata": {},
   "source": [
    "# Santander Kaggle\n",
    "\n",
    "Ok! Let's try the Santander Kaggle! https://www.kaggle.com/c/santander-customer-satisfaction/data"
   ]
  },
  {
   "cell_type": "code",
   "execution_count": 49,
   "metadata": {
    "collapsed": false
   },
   "outputs": [
    {
     "name": "stdout",
     "output_type": "stream",
     "text": [
      "Let's get started\n"
     ]
    }
   ],
   "source": [
    "%matplotlib inline\n",
    "print \"Let's get started\"\n",
    "import csv\n",
    "import numpy as np\n",
    "import matplotlib.pyplot as plt\n",
    "import seaborn as sns\n",
    "sns.set(style=\"white\", color_codes=True)\n",
    "import os\n",
    "import pandas as pd"
   ]
  },
  {
   "cell_type": "markdown",
   "metadata": {},
   "source": [
    "Let's load our data"
   ]
  },
  {
   "cell_type": "code",
   "execution_count": 50,
   "metadata": {
    "collapsed": false
   },
   "outputs": [],
   "source": [
    "def read_csv(fname,max_rows=None,labeled=None):\n",
    "    curr_file=open(fname,'rU')\n",
    "    curr_read=csv.reader(curr_file)\n",
    "    if max_rows:\n",
    "        df=pd.read_csv(fname, sep=',',header=0,nrows=max_rows)\n",
    "    else:\n",
    "        df=pd.read_csv(fname, sep=',',header=0)\n",
    "    if labeled:\n",
    "        df_data= df[range(len(df.columns.values)-1)]\n",
    "        df_label= df[[-1]]\n",
    "        return df_data,df_label\n",
    "    else:\n",
    "        return df\n",
    "\n",
    "\n",
    "\n",
    "#train_data,train_label=read_csv('train.csv',max_rows=10000,labeled=True) \n",
    "train_data,train_label=read_csv('train.csv',labeled=True) \n",
    "\n",
    "# https://www.kaggle.com/cast42/santander-customer-satisfaction/exploring-features\n",
    "# remove placeholder value\n",
    "train_data = train_data.replace(-999999,2) \n",
    "test_data=read_csv('test.csv')"
   ]
  },
  {
   "cell_type": "markdown",
   "metadata": {},
   "source": [
    "How many positive instances do we have?"
   ]
  },
  {
   "cell_type": "code",
   "execution_count": 51,
   "metadata": {
    "collapsed": false
   },
   "outputs": [
    {
     "name": "stdout",
     "output_type": "stream",
     "text": [
      "0.0395685345962\n"
     ]
    }
   ],
   "source": [
    "print np.mean(train_label.values)"
   ]
  },
  {
   "cell_type": "markdown",
   "metadata": {},
   "source": [
    "Not a lot :("
   ]
  },
  {
   "cell_type": "markdown",
   "metadata": {},
   "source": [
    "## Data cleaning\n",
    "\n",
    "The next two data processing steps I copied from [here](https://www.kaggle.com/yuansun/santander-customer-satisfaction/lb-0-84-for-starters/code)\n",
    "\n",
    "First let's remove columns with no variance"
   ]
  },
  {
   "cell_type": "code",
   "execution_count": 52,
   "metadata": {
    "collapsed": false
   },
   "outputs": [
    {
     "name": "stdout",
     "output_type": "stream",
     "text": [
      "34\n"
     ]
    }
   ],
   "source": [
    "to_remove=[]\n",
    "for col in train_data.columns:\n",
    "    if train_data[col].std()==0:\n",
    "        to_remove.append(col)\n",
    "\n",
    "print len(to_remove)\n",
    "\n",
    "train_data.drop(to_remove, axis=1, inplace=True)\n",
    "test_data.drop(to_remove, axis=1, inplace=True)\n",
    "    "
   ]
  },
  {
   "cell_type": "markdown",
   "metadata": {},
   "source": [
    "And then duplicate columns"
   ]
  },
  {
   "cell_type": "code",
   "execution_count": 53,
   "metadata": {
    "collapsed": false
   },
   "outputs": [
    {
     "name": "stdout",
     "output_type": "stream",
     "text": [
      "29\n"
     ]
    }
   ],
   "source": [
    "to_remove = []\n",
    "c = train_data.columns\n",
    "for i in range(len(c)-1):\n",
    "    v = train_data[c[i]].values\n",
    "    for j in range(i+1,len(c)):\n",
    "        if np.array_equal(v,train_data[c[j]].values):\n",
    "            to_remove.append(c[j])\n",
    "\n",
    "print len(to_remove)\n",
    "\n",
    "train_data.drop(to_remove, axis=1, inplace=True)\n",
    "test_data.drop(to_remove, axis=1, inplace=True)            "
   ]
  },
  {
   "cell_type": "markdown",
   "metadata": {},
   "source": [
    "Let's check how many columns this leaves us with"
   ]
  },
  {
   "cell_type": "code",
   "execution_count": 54,
   "metadata": {
    "collapsed": false
   },
   "outputs": [
    {
     "data": {
      "text/plain": [
       "307"
      ]
     },
     "execution_count": 54,
     "metadata": {},
     "output_type": "execute_result"
    }
   ],
   "source": [
    "len(train_data.columns)"
   ]
  },
  {
   "cell_type": "markdown",
   "metadata": {},
   "source": [
    "## Parameter visualization"
   ]
  },
  {
   "cell_type": "markdown",
   "metadata": {},
   "source": [
    "Let's try to get a better intuition of how our data looks by plotting out some raw histograms"
   ]
  },
  {
   "cell_type": "code",
   "execution_count": 55,
   "metadata": {
    "collapsed": false
   },
   "outputs": [
    {
     "data": {
      "image/png": "[encoded data removed]",
      "text/plain": [
       "<matplotlib.figure.Figure at 0x118d2b550>"
      ]
     },
     "metadata": {},
     "output_type": "display_data"
    }
   ],
   "source": [
    "plt.figure(figsize=(15,15))\n",
    "for icol,count in enumerate(range(1,25)):\n",
    "\n",
    "    ax_curr=plt.subplot(4, 6, count)\n",
    "\n",
    "    curr_data=train_data.values[:,icol]\n",
    "    n, bins, patches = plt.hist(curr_data, 50, facecolor='lightgrey', alpha=0.75)\n",
    "\n",
    "    # add a mean line\n",
    "    mean_val=np.mean(curr_data)\n",
    "    l = plt.plot([mean_val,mean_val], [0,np.max(n)+10], 'b--', linewidth=3,c='firebrick')\n",
    "\n",
    "    plt.title(train_data.columns.values[icol],fontsize='12')\n",
    "    plt.ylabel('Frequency',fontsize='12')\n",
    "    ax_curr.set_xlim([np.min(curr_data)-1, np.max(curr_data)+1])\n",
    "    plt.locator_params(nbins=4)\n",
    "\n",
    "plt.tight_layout()\n",
    "plt.show()"
   ]
  },
  {
   "cell_type": "markdown",
   "metadata": {},
   "source": [
    "Andddd the data is really weird. Some things have super skewed exponential-ish distributions, others are binomial with really either no or virtually no positive occurences. Given the very small number of successful interactions, there may be a lot of information in these tails/rare events..."
   ]
  },
  {
   "cell_type": "markdown",
   "metadata": {},
   "source": [
    "# First pass: SVM\n",
    "\n",
    "Let's start off with an SVM"
   ]
  },
  {
   "cell_type": "code",
   "execution_count": 56,
   "metadata": {
    "collapsed": false
   },
   "outputs": [
    {
     "name": "stdout",
     "output_type": "stream",
     "text": [
      "Splitting data\n",
      "Fitting SVM\n",
      "('Overall AUC:', 0.48076186676100841)\n"
     ]
    }
   ],
   "source": [
    "from sklearn import svm\n",
    "from sklearn.cross_validation import train_test_split\n",
    "from sklearn import metrics \n",
    "\n",
    "print 'Splitting data'\n",
    "\n",
    "X_train, X_test, y_train, y_test = train_test_split(train_data, train_label, test_size=0.33, random_state=42)\n",
    "\n",
    "print 'Fitting SVM'\n",
    "\n",
    "clf = svm.SVC(probability=True)\n",
    "clf.fit(X_train, y_train['TARGET'].values)  \n",
    "\n",
    "print('Overall AUC:', metrics.roc_auc_score(y_test, clf.predict_proba(X_test)[:,1]))"
   ]
  },
  {
   "cell_type": "markdown",
   "metadata": {},
   "source": [
    "# More data processing: Oversampling\n",
    "\n",
    "We may be able to get those small examples better by oversampling our data (we have 150,000 samples, around 3%--4500-- of which will be positive). This might be ok? [This page](http://machinelearningmastery.com/tactics-to-combat-imbalanced-classes-in-your-machine-learning-dataset/) had some helpful suggestions. I'm going to try uniform sampling (I tried to find a working SMOTE sampler but I think it was being weird with Pandas). \n",
    "\n",
    "This function will do the oversampling"
   ]
  },
  {
   "cell_type": "code",
   "execution_count": 57,
   "metadata": {
    "collapsed": true
   },
   "outputs": [],
   "source": [
    "def oversample(X_train,y_train):\n",
    "    print 'Oversampling'\n",
    "\n",
    "    # Oversample the training examples and fit\n",
    "    train_pos=X_train.iloc[[i[0] for i in y_train.values==1]]\n",
    "    train_neg=X_train.iloc[[i[0] for i in y_train.values==0]]\n",
    "\n",
    "    over_data=train_pos.sample(n=len(y_train)/2,replace=True).\\\n",
    "        append(train_neg.sample(n=len(y_train)/2,replace=True))\n",
    "    over_label=[1]*(len(y_train)/2)+[0]*(len(y_train)/2)\n",
    "    \n",
    "    return over_data,over_label"
   ]
  },
  {
   "cell_type": "markdown",
   "metadata": {},
   "source": [
    "Let's see how this works now"
   ]
  },
  {
   "cell_type": "code",
   "execution_count": 58,
   "metadata": {
    "collapsed": false
   },
   "outputs": [
    {
     "name": "stdout",
     "output_type": "stream",
     "text": [
      "Splitting data\n",
      "Oversampling\n",
      "Fitting SVM\n",
      "('Overall AUC:', 0.49159605272150547)\n"
     ]
    }
   ],
   "source": [
    "print 'Splitting data'\n",
    "\n",
    "X_train, X_test, y_train, y_test = train_test_split(train_data, train_label, test_size=0.33, random_state=42)\n",
    "\n",
    "over_data,over_label=oversample(X_train,y_train)\n",
    "\n",
    "print 'Fitting SVM'\n",
    "\n",
    "clf = svm.SVC(probability=True)\n",
    "clf.fit(over_data, over_label)  \n",
    "\n",
    "print('Overall AUC:', metrics.roc_auc_score(y_test, clf.predict_proba(X_test)[:,1]))"
   ]
  },
  {
   "cell_type": "markdown",
   "metadata": {
    "collapsed": true
   },
   "source": [
    "A ~.008 improvement! x.X"
   ]
  },
  {
   "cell_type": "markdown",
   "metadata": {},
   "source": [
    "# Feature engineering?\n",
    "\n",
    "Before we try a more complex model, I'd like to try some feature engineering. It looks like [the other noobs haven't had much luck](https://www.kaggle.com/c/santander-customer-satisfaction/forums/t/19818/feature-engineering-how-to) (as of 4/2/2016).\n",
    "\n",
    "First, let's try a PCA and see if this gets rid of any correlated features and what not."
   ]
  },
  {
   "cell_type": "code",
   "execution_count": 59,
   "metadata": {
    "collapsed": false
   },
   "outputs": [
    {
     "name": "stdout",
     "output_type": "stream",
     "text": [
      "Try 10 factors...\n",
      "[ 0.65933419  0.16274096  0.07265493  0.0378346   0.03361263  0.01634353\n",
      "  0.00465604  0.00320719  0.00268279  0.00179026]\n",
      "\n",
      "\n",
      "7 seems good\n"
     ]
    }
   ],
   "source": [
    "from sklearn.decomposition import PCA\n",
    "\n",
    "print 'Try 10 factors...'\n",
    "pca_trial = PCA(n_components=10) \n",
    "pca_trial.fit(train_data)\n",
    "print(pca_trial.explained_variance_ratio_) \n",
    "\n",
    "print '\\n'\n",
    "\n",
    "print '7 seems good'\n",
    "pca = PCA(n_components=7) \n",
    "pca_data_list=pca.fit_transform(train_data)\n",
    "pca_data=pd.DataFrame.from_records(pca_data_list)"
   ]
  },
  {
   "cell_type": "code",
   "execution_count": 60,
   "metadata": {
    "collapsed": false
   },
   "outputs": [
    {
     "name": "stdout",
     "output_type": "stream",
     "text": [
      "Splitting data\n",
      "Oversampling\n",
      "Fitting SVM\n",
      "('Overall AUC:', 0.59590832767148694)\n"
     ]
    }
   ],
   "source": [
    "print 'Splitting data'\n",
    "\n",
    "X_train, X_test, y_train, y_test = train_test_split(pca_data, train_label, test_size=0.33, random_state=42)\n",
    "\n",
    "over_data,over_label=oversample(X_train,y_train)\n",
    "\n",
    "print 'Fitting SVM'\n",
    "\n",
    "clf = svm.SVC(probability=True)\n",
    "clf.fit(over_data, over_label)  \n",
    "\n",
    "print('Overall AUC:', metrics.roc_auc_score(y_test, clf.predict_proba(X_test)[:,1]))"
   ]
  },
  {
   "cell_type": "markdown",
   "metadata": {},
   "source": [
    "Ok, that's more like it! Finally a substantial improvement!"
   ]
  },
  {
   "cell_type": "markdown",
   "metadata": {},
   "source": [
    "# Decision Tree\n",
    "\n",
    "A decision tree might be able to better capture the small number of poor customer interactions"
   ]
  },
  {
   "cell_type": "code",
   "execution_count": 61,
   "metadata": {
    "collapsed": false
   },
   "outputs": [
    {
     "name": "stdout",
     "output_type": "stream",
     "text": [
      "Best Depth\n",
      "0    6.00000\n",
      "1    0.60193\n",
      "Name: 5, dtype: float64\n"
     ]
    }
   ],
   "source": [
    "from sklearn import tree\n",
    "\n",
    "X_train, X_test, y_train, y_test = train_test_split(pca_data, train_label, test_size=0.33, random_state=42)\n",
    "\n",
    "tree_auc=[]\n",
    "for md in range(1,25):\n",
    "    clf = tree.DecisionTreeClassifier(max_depth=md)\n",
    "    clf.fit(X_train, y_train)  \n",
    "    tree_auc.append((md,metrics.roc_auc_score(y_test, clf.predict_proba(X_test)[:,1])))\n",
    "\n",
    "#    # oversampling doesn't appear to be helping this\n",
    "#     print 'With oversampling'\n",
    "#     over_data,over_label=oversample(X_train,y_train)\n",
    "#     clf = tree.DecisionTreeClassifier(max_depth=md)\n",
    "#     clf.fit(over_data, over_label)  \n",
    "#     print('Overall AUC:', metrics.roc_auc_score(y_test, clf.predict_proba(X_test)[:,1]))\n",
    "    \n",
    "tree_df=pd.DataFrame(tree_auc)\n",
    "best_depth=tree_df.ix[tree_df[1].idxmax()]\n",
    "\n",
    "print 'Best Depth'\n",
    "print best_depth"
   ]
  },
  {
   "cell_type": "markdown",
   "metadata": {},
   "source": [
    "Ok, a small improvement."
   ]
  },
  {
   "cell_type": "markdown",
   "metadata": {},
   "source": [
    "# Gradient Boosted Decision Tree"
   ]
  },
  {
   "cell_type": "markdown",
   "metadata": {},
   "source": [
    "Let's try to get some more power by boosting this tree with PCA"
   ]
  },
  {
   "cell_type": "code",
   "execution_count": 62,
   "metadata": {
    "collapsed": false
   },
   "outputs": [
    {
     "name": "stdout",
     "output_type": "stream",
     "text": [
      "   n_est     lr  depth       auc\n",
      "0      1  0.100      1  0.570153\n",
      "0      1  0.100      2  0.593421\n",
      "0      1  0.100      3  0.597347\n",
      "0      1  0.100      4  0.600759\n",
      "0      1  0.575      1  0.570153\n"
     ]
    }
   ],
   "source": [
    "from sklearn.ensemble import GradientBoostingClassifier\n",
    "\n",
    "X_train, X_test, y_train, y_test = train_test_split(pca_data, train_label, test_size=0.33, random_state=42)\n",
    "\n",
    "gbd=pd.DataFrame(columns=('n_est', 'lr','depth','auc'))\n",
    "\n",
    "for ie in range(1,5):\n",
    "    for lr in np.linspace(.1,2,5):\n",
    "        for dt in range(1,5):\n",
    "            clf = GradientBoostingClassifier(n_estimators=ie, learning_rate=lr,\\\n",
    "                                             max_depth=dt)\n",
    "            clf.fit(X_train, y_train['TARGET'].values)\n",
    "            auc=metrics.roc_auc_score(y_test, clf.predict_proba(X_test)[:,1])\n",
    "            new_data=pd.DataFrame([[ie,lr,dt,auc]],columns=('n_est', 'lr','depth', 'auc'))\n",
    "            gbd=gbd.append(new_data)\n",
    "        \n",
    "print gbd.head()        "
   ]
  },
  {
   "cell_type": "code",
   "execution_count": 63,
   "metadata": {
    "collapsed": false
   },
   "outputs": [
    {
     "name": "stdout",
     "output_type": "stream",
     "text": [
      "Best Params\n",
      "n_est    4.000\n",
      "lr       1.525\n",
      "depth    3.000\n",
      "auc      0.605\n",
      "Name: 0, dtype: float64\n"
     ]
    }
   ],
   "source": [
    "best_param = gbd.iloc[gbd['auc'].values.argmax()]\n",
    "\n",
    "print 'Best Params'\n",
    "print best_param"
   ]
  },
  {
   "cell_type": "markdown",
   "metadata": {},
   "source": [
    "Let's check how it is without PCA"
   ]
  },
  {
   "cell_type": "code",
   "execution_count": 65,
   "metadata": {
    "collapsed": false
   },
   "outputs": [
    {
     "name": "stdout",
     "output_type": "stream",
     "text": [
      "   n_est    lr  depth       auc\n",
      "0    100  0.10      1  0.814912\n",
      "0    100  0.10      2  0.823394\n",
      "0    100  1.05      1  0.814804\n",
      "0    100  1.05      2  0.805973\n",
      "0    100  2.00      1  0.802675\n"
     ]
    }
   ],
   "source": [
    "from sklearn.ensemble import GradientBoostingClassifier\n",
    "\n",
    "X_train, X_test, y_train, y_test = train_test_split(train_data, train_label, test_size=0.33, random_state=42)\n",
    "\n",
    "gbd=pd.DataFrame(columns=('n_est', 'lr','depth','auc'))\n",
    "\n",
    "for ie in [int(ii) for ii in np.linspace(100,300,3)]:\n",
    "    for lr in np.linspace(.05,.15,3):\n",
    "        for dt in range(1,3):\n",
    "            clf = GradientBoostingClassifier(n_estimators=ie, learning_rate=lr,\\\n",
    "                                             max_depth=dt)\n",
    "            clf.fit(X_train, y_train['TARGET'].values)\n",
    "            auc=metrics.roc_auc_score(y_test, clf.predict_proba(X_test)[:,1])\n",
    "            new_data=pd.DataFrame([[ie,lr,dt,auc]],columns=('n_est', 'lr','depth', 'auc'))\n",
    "            gbd=gbd.append(new_data)\n",
    "        \n",
    "print gbd.head()  "
   ]
  },
  {
   "cell_type": "code",
   "execution_count": 68,
   "metadata": {
    "collapsed": false
   },
   "outputs": [
    {
     "data": {
      "text/html": [
       "<div>\n",
       "<table border=\"1\" class=\"dataframe\">\n",
       "  <thead>\n",
       "    <tr style=\"text-align: right;\">\n",
       "      <th></th>\n",
       "      <th>n_est</th>\n",
       "      <th>lr</th>\n",
       "      <th>depth</th>\n",
       "      <th>auc</th>\n",
       "    </tr>\n",
       "  </thead>\n",
       "  <tbody>\n",
       "    <tr>\n",
       "      <th>0</th>\n",
       "      <td>100</td>\n",
       "      <td>0.10</td>\n",
       "      <td>1</td>\n",
       "      <td>0.814912</td>\n",
       "    </tr>\n",
       "    <tr>\n",
       "      <th>0</th>\n",
       "      <td>100</td>\n",
       "      <td>0.10</td>\n",
       "      <td>2</td>\n",
       "      <td>0.823394</td>\n",
       "    </tr>\n",
       "    <tr>\n",
       "      <th>0</th>\n",
       "      <td>100</td>\n",
       "      <td>1.05</td>\n",
       "      <td>1</td>\n",
       "      <td>0.814804</td>\n",
       "    </tr>\n",
       "    <tr>\n",
       "      <th>0</th>\n",
       "      <td>100</td>\n",
       "      <td>1.05</td>\n",
       "      <td>2</td>\n",
       "      <td>0.805973</td>\n",
       "    </tr>\n",
       "    <tr>\n",
       "      <th>0</th>\n",
       "      <td>100</td>\n",
       "      <td>2.00</td>\n",
       "      <td>1</td>\n",
       "      <td>0.802675</td>\n",
       "    </tr>\n",
       "    <tr>\n",
       "      <th>0</th>\n",
       "      <td>100</td>\n",
       "      <td>2.00</td>\n",
       "      <td>2</td>\n",
       "      <td>0.730035</td>\n",
       "    </tr>\n",
       "    <tr>\n",
       "      <th>0</th>\n",
       "      <td>200</td>\n",
       "      <td>0.10</td>\n",
       "      <td>1</td>\n",
       "      <td>0.820338</td>\n",
       "    </tr>\n",
       "    <tr>\n",
       "      <th>0</th>\n",
       "      <td>200</td>\n",
       "      <td>0.10</td>\n",
       "      <td>2</td>\n",
       "      <td>0.824521</td>\n",
       "    </tr>\n",
       "    <tr>\n",
       "      <th>0</th>\n",
       "      <td>200</td>\n",
       "      <td>1.05</td>\n",
       "      <td>1</td>\n",
       "      <td>0.815288</td>\n",
       "    </tr>\n",
       "    <tr>\n",
       "      <th>0</th>\n",
       "      <td>200</td>\n",
       "      <td>1.05</td>\n",
       "      <td>2</td>\n",
       "      <td>0.801541</td>\n",
       "    </tr>\n",
       "    <tr>\n",
       "      <th>0</th>\n",
       "      <td>200</td>\n",
       "      <td>2.00</td>\n",
       "      <td>1</td>\n",
       "      <td>0.802675</td>\n",
       "    </tr>\n",
       "    <tr>\n",
       "      <th>0</th>\n",
       "      <td>200</td>\n",
       "      <td>2.00</td>\n",
       "      <td>2</td>\n",
       "      <td>0.730035</td>\n",
       "    </tr>\n",
       "    <tr>\n",
       "      <th>0</th>\n",
       "      <td>300</td>\n",
       "      <td>0.10</td>\n",
       "      <td>1</td>\n",
       "      <td>0.821554</td>\n",
       "    </tr>\n",
       "    <tr>\n",
       "      <th>0</th>\n",
       "      <td>300</td>\n",
       "      <td>0.10</td>\n",
       "      <td>2</td>\n",
       "      <td>0.823671</td>\n",
       "    </tr>\n",
       "    <tr>\n",
       "      <th>0</th>\n",
       "      <td>300</td>\n",
       "      <td>1.05</td>\n",
       "      <td>1</td>\n",
       "      <td>0.813376</td>\n",
       "    </tr>\n",
       "    <tr>\n",
       "      <th>0</th>\n",
       "      <td>300</td>\n",
       "      <td>1.05</td>\n",
       "      <td>2</td>\n",
       "      <td>0.801580</td>\n",
       "    </tr>\n",
       "    <tr>\n",
       "      <th>0</th>\n",
       "      <td>300</td>\n",
       "      <td>2.00</td>\n",
       "      <td>1</td>\n",
       "      <td>0.802675</td>\n",
       "    </tr>\n",
       "    <tr>\n",
       "      <th>0</th>\n",
       "      <td>300</td>\n",
       "      <td>2.00</td>\n",
       "      <td>2</td>\n",
       "      <td>0.730035</td>\n",
       "    </tr>\n",
       "  </tbody>\n",
       "</table>\n",
       "</div>"
      ],
      "text/plain": [
       "   n_est    lr  depth       auc\n",
       "0    100  0.10      1  0.814912\n",
       "0    100  0.10      2  0.823394\n",
       "0    100  1.05      1  0.814804\n",
       "0    100  1.05      2  0.805973\n",
       "0    100  2.00      1  0.802675\n",
       "0    100  2.00      2  0.730035\n",
       "0    200  0.10      1  0.820338\n",
       "0    200  0.10      2  0.824521\n",
       "0    200  1.05      1  0.815288\n",
       "0    200  1.05      2  0.801541\n",
       "0    200  2.00      1  0.802675\n",
       "0    200  2.00      2  0.730035\n",
       "0    300  0.10      1  0.821554\n",
       "0    300  0.10      2  0.823671\n",
       "0    300  1.05      1  0.813376\n",
       "0    300  1.05      2  0.801580\n",
       "0    300  2.00      1  0.802675\n",
       "0    300  2.00      2  0.730035"
      ]
     },
     "execution_count": 68,
     "metadata": {},
     "output_type": "execute_result"
    }
   ],
   "source": [
    "gbd"
   ]
  },
  {
   "cell_type": "code",
   "execution_count": 69,
   "metadata": {
    "collapsed": false
   },
   "outputs": [
    {
     "name": "stdout",
     "output_type": "stream",
     "text": [
      "Best Params\n",
      "n_est    200.000000\n",
      "lr         0.100000\n",
      "depth      2.000000\n",
      "auc        0.824521\n",
      "Name: 0, dtype: float64\n"
     ]
    }
   ],
   "source": [
    "best_param = gbd.iloc[gbd['auc'].values.argmax()]\n",
    "\n",
    "print 'Best Params'\n",
    "print best_param"
   ]
  },
  {
   "cell_type": "markdown",
   "metadata": {},
   "source": [
    "Hmmm so our current PCA is losing some information. Maybe increasing the number of components will help?"
   ]
  },
  {
   "cell_type": "code",
   "execution_count": null,
   "metadata": {
    "collapsed": false
   },
   "outputs": [
    {
     "name": "stdout",
     "output_type": "stream",
     "text": [
      "try 200\n"
     ]
    }
   ],
   "source": [
    "%%time\n",
    "from sklearn.decomposition import PCA\n",
    "\n",
    "print 'try 200'\n",
    "pca = PCA(n_components=200) \n",
    "pca_data_list=pca.fit_transform(train_data)\n",
    "pca_data=pd.DataFrame.from_records(pca_data_list)\n",
    "\n",
    "X_train, X_test, y_train, y_test = train_test_split(pca_data, train_label, test_size=0.33, random_state=42)\n",
    "\n",
    "gbd=pd.DataFrame(columns=('n_est', 'lr','depth','auc'))\n",
    "\n",
    "for ie in [int(ii) for ii in np.linspace(150,250,4)]:\n",
    "    for lr in np.linspace(.02,.1,4):\n",
    "        for dt in range(1,4):\n",
    "            clf = GradientBoostingClassifier(n_estimators=ie, learning_rate=lr,\\\n",
    "                                             max_depth=dt)\n",
    "            clf.fit(X_train, y_train['TARGET'].values)\n",
    "            auc=metrics.roc_auc_score(y_test, clf.predict_proba(X_test)[:,1])\n",
    "            new_data=pd.DataFrame([[ie,lr,dt,auc]],columns=('n_est', 'lr','depth', 'auc'))\n",
    "            print new_data\n",
    "            gbd=gbd.append(new_data)\n"
   ]
  },
  {
   "cell_type": "code",
   "execution_count": 77,
   "metadata": {
    "collapsed": false
   },
   "outputs": [
    {
     "name": "stdout",
     "output_type": "stream",
     "text": [
      "Best Params\n",
      "n_est    200.000000\n",
      "lr         0.046667\n",
      "depth      3.000000\n",
      "auc        0.819475\n",
      "Name: 0, dtype: float64\n"
     ]
    }
   ],
   "source": [
    "best_param = gbd.iloc[gbd['auc'].values.argmax()]\n",
    "\n",
    "print 'Best Params'\n",
    "print best_param"
   ]
  },
  {
   "cell_type": "markdown",
   "metadata": {},
   "source": [
    "# XGBOOST\n",
    "\n",
    "[All these posts](https://www.kaggle.com/yuansun/santander-customer-satisfaction/lb-0-84-for-starters/code) keep trying this XGBoost function. Let's see how it does."
   ]
  },
  {
   "cell_type": "code",
   "execution_count": null,
   "metadata": {
    "collapsed": false
   },
   "outputs": [],
   "source": [
    "import xgboost as xgb\n",
    "from sklearn.pipeline import Pipeline\n",
    "from sklearn.svm import OneClassSVM\n",
    "\n",
    "X_train, X_test, y_train, y_test = train_test_split(train_data, train_label, test_size=0.33, random_state=42)\n",
    "\n",
    "clf = xgb.XGBClassifier(missing=np.nan, max_depth=5, n_estimators=350, \\\n",
    "                        learning_rate=0.03, nthread=4, subsample=0.95, colsample_bytree=0.85, seed=4242)\n",
    "clf.fit(X_train, y_train['TARGET'].values)\n",
    "auc=metrics.roc_auc_score(y_test, clf.predict_proba(X_test)[:,1])\n",
    "\n",
    "print auc"
   ]
  },
  {
   "cell_type": "markdown",
   "metadata": {},
   "source": [
    "# Submission"
   ]
  },
  {
   "cell_type": "code",
   "execution_count": null,
   "metadata": {
    "collapsed": false,
    "scrolled": true
   },
   "outputs": [],
   "source": [
    "id_test = test_data['ID']\n",
    "test_pred=clf.predict(test_data)\n",
    "submission = pd.DataFrame({\"ID\":id_test, \"TARGET\":y_pred})\n",
    "submission.to_csv(\"submission.csv\", index=False)\n",
    "print 'Complete'"
   ]
  },
  {
   "cell_type": "code",
   "execution_count": null,
   "metadata": {
    "collapsed": true
   },
   "outputs": [],
   "source": []
  }
 ],
 "metadata": {
  "kernelspec": {
   "display_name": "Python 2",
   "language": "python",
   "name": "python2"
  },
  "language_info": {
   "codemirror_mode": {
    "name": "ipython",
    "version": 2
   },
   "file_extension": ".py",
   "mimetype": "text/x-python",
   "name": "python",
   "nbconvert_exporter": "python",
   "pygments_lexer": "ipython2",
   "version": "2.7.6"
  }
 },
 "nbformat": 4,
 "nbformat_minor": 0
}
